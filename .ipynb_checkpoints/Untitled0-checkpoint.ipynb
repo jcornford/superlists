{
 "metadata": {
  "name": "",
  "signature": "sha256:b7161e42dea122cb31b0d573c3adc9fd64ca7c60a8af7340635b812a2d42e026"
 },
 "nbformat": 3,
 "nbformat_minor": 0,
 "worksheets": []
}